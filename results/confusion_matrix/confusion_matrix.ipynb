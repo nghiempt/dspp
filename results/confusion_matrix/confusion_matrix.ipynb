{
 "cells": [
  {
   "cell_type": "code",
   "execution_count": 1,
   "metadata": {},
   "outputs": [],
   "source": [
    "import pandas as pd\n",
    "from sklearn.metrics import confusion_matrix, accuracy_score, precision_score, recall_score, f1_score"
   ]
  },
  {
   "cell_type": "code",
   "execution_count": 2,
   "metadata": {},
   "outputs": [],
   "source": [
    "# Read the actual and predicted CSV files into dataframes\n",
    "actual_df = pd.read_csv('/Users/nghiempt/Corporation/scientific_research/paper_policy/results/times06/llama_generate.csv')\n",
    "predict_df = pd.read_csv('/Users/nghiempt/Corporation/scientific_research/paper_policy/results/times06/ft_3.5_byllama.csv')"
   ]
  },
  {
   "cell_type": "code",
   "execution_count": 3,
   "metadata": {},
   "outputs": [],
   "source": [
    "# Initialize an empty dictionary to store confusion matrices and metrics\n",
    "results = []\n",
    "\n",
    "# Read column names from the CSV file\n",
    "column_names = list(actual_df.columns)"
   ]
  },
  {
   "cell_type": "code",
   "execution_count": 4,
   "metadata": {},
   "outputs": [],
   "source": [
    "# Iterate through each column in the dataframes\n",
    "for idx, column in enumerate(column_names):\n",
    "    # Calculate the confusion matrix for the current column\n",
    "    actual_values = actual_df[column]\n",
    "    predicted_values = predict_df[column]\n",
    "    cm = confusion_matrix(actual_values, predicted_values)\n",
    "    \n",
    "    # Calculate accuracy, precision, recall, and F1 score\n",
    "    accuracy = accuracy_score(actual_values, predicted_values)\n",
    "    precision = precision_score(actual_values, predicted_values)\n",
    "    recall = recall_score(actual_values, predicted_values)\n",
    "    f1 = f1_score(actual_values, predicted_values)\n",
    "    \n",
    "    # Store metrics in a dictionary along with column name\n",
    "    metrics = {\n",
    "        'Class': column,\n",
    "        'Confusion Matrix': cm,\n",
    "        'Accuracy': accuracy,\n",
    "        'Precision': precision,\n",
    "        'Recall': recall,\n",
    "        'F1 Score': f1\n",
    "    }\n",
    "    \n",
    "    # Append the dictionary to the results list\n",
    "    results.append(metrics)"
   ]
  },
  {
   "cell_type": "code",
   "execution_count": 5,
   "metadata": {},
   "outputs": [
    {
     "data": {
      "text/html": [
       "<div>\n",
       "<style scoped>\n",
       "    .dataframe tbody tr th:only-of-type {\n",
       "        vertical-align: middle;\n",
       "    }\n",
       "\n",
       "    .dataframe tbody tr th {\n",
       "        vertical-align: top;\n",
       "    }\n",
       "\n",
       "    .dataframe thead th {\n",
       "        text-align: right;\n",
       "    }\n",
       "</style>\n",
       "<table border=\"1\" class=\"dataframe\">\n",
       "  <thead>\n",
       "    <tr style=\"text-align: right;\">\n",
       "      <th></th>\n",
       "      <th>Confusion Matrix</th>\n",
       "      <th>Accuracy</th>\n",
       "      <th>Precision</th>\n",
       "      <th>Recall</th>\n",
       "      <th>F1 Score</th>\n",
       "    </tr>\n",
       "    <tr>\n",
       "      <th>Class</th>\n",
       "      <th></th>\n",
       "      <th></th>\n",
       "      <th></th>\n",
       "      <th></th>\n",
       "      <th></th>\n",
       "    </tr>\n",
       "  </thead>\n",
       "  <tbody>\n",
       "    <tr>\n",
       "      <th>incorrect</th>\n",
       "      <td>[[242, 2], [6, 0]]</td>\n",
       "      <td>0.968</td>\n",
       "      <td>0.000000</td>\n",
       "      <td>0.000000</td>\n",
       "      <td>0.00000</td>\n",
       "    </tr>\n",
       "    <tr>\n",
       "      <th>incomplete</th>\n",
       "      <td>[[250]]</td>\n",
       "      <td>1.000</td>\n",
       "      <td>1.000000</td>\n",
       "      <td>1.000000</td>\n",
       "      <td>1.00000</td>\n",
       "    </tr>\n",
       "    <tr>\n",
       "      <th>inconsistent</th>\n",
       "      <td>[[30, 33], [16, 171]]</td>\n",
       "      <td>0.804</td>\n",
       "      <td>0.838235</td>\n",
       "      <td>0.914439</td>\n",
       "      <td>0.87468</td>\n",
       "    </tr>\n",
       "  </tbody>\n",
       "</table>\n",
       "</div>"
      ],
      "text/plain": [
       "                   Confusion Matrix  Accuracy  Precision    Recall  F1 Score\n",
       "Class                                                                       \n",
       "incorrect        [[242, 2], [6, 0]]     0.968   0.000000  0.000000   0.00000\n",
       "incomplete                  [[250]]     1.000   1.000000  1.000000   1.00000\n",
       "inconsistent  [[30, 33], [16, 171]]     0.804   0.838235  0.914439   0.87468"
      ]
     },
     "execution_count": 5,
     "metadata": {},
     "output_type": "execute_result"
    }
   ],
   "source": [
    "# Create a DataFrame from the list of dictionaries\n",
    "results_df = pd.DataFrame(results)\n",
    "\n",
    "# Set the column name as the index\n",
    "results_df = results_df.set_index('Class')\n",
    "\n",
    "# Display the DataFrame in Jupyter Notebook\n",
    "results_df"
   ]
  }
 ],
 "metadata": {
  "kernelspec": {
   "display_name": "Python 3 (ipykernel)",
   "language": "python",
   "name": "python3"
  },
  "language_info": {
   "codemirror_mode": {
    "name": "ipython",
    "version": 3
   },
   "file_extension": ".py",
   "mimetype": "text/x-python",
   "name": "python",
   "nbconvert_exporter": "python",
   "pygments_lexer": "ipython3",
   "version": "3.11.4"
  }
 },
 "nbformat": 4,
 "nbformat_minor": 2
}
