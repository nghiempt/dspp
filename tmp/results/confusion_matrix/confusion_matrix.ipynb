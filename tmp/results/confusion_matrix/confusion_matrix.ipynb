{
 "cells": [
  {
   "cell_type": "code",
   "execution_count": 14,
   "metadata": {},
   "outputs": [],
   "source": [
    "import pandas as pd\n",
    "from sklearn.metrics import confusion_matrix, accuracy_score, precision_score, recall_score, f1_score"
   ]
  },
  {
   "cell_type": "code",
   "execution_count": 15,
   "metadata": {},
   "outputs": [],
   "source": [
    "# Read the actual and predicted CSV files into dataframes\n",
    "actual_df = pd.read_csv('/Users/nghiempt/Corporation/scientific_research/paper_policy/results/times01/manual_100.csv')\n",
    "predict_df = pd.read_csv('/Users/nghiempt/Corporation/scientific_research/paper_policy/results/times01/origin_m100.csv')"
   ]
  },
  {
   "cell_type": "code",
   "execution_count": 16,
   "metadata": {},
   "outputs": [],
   "source": [
    "# Initialize an empty dictionary to store confusion matrices and metrics\n",
    "results = []\n",
    "\n",
    "# Read column names from the CSV file\n",
    "column_names = list(actual_df.columns)"
   ]
  },
  {
   "cell_type": "code",
   "execution_count": 17,
   "metadata": {},
   "outputs": [],
   "source": [
    "# Iterate through each column in the dataframes\n",
    "for idx, column in enumerate(column_names):\n",
    "    # Calculate the confusion matrix for the current column\n",
    "    actual_values = actual_df[column]\n",
    "    predicted_values = predict_df[column]\n",
    "    cm = confusion_matrix(actual_values, predicted_values)\n",
    "    \n",
    "    # Calculate accuracy, precision, recall, and F1 score\n",
    "    accuracy = accuracy_score(actual_values, predicted_values)\n",
    "    precision = precision_score(actual_values, predicted_values)\n",
    "    recall = recall_score(actual_values, predicted_values)\n",
    "    f1 = f1_score(actual_values, predicted_values)\n",
    "    \n",
    "    # Store metrics in a dictionary along with column name\n",
    "    metrics = {\n",
    "        'Class': column,\n",
    "        'Confusion Matrix': cm,\n",
    "        'Accuracy': accuracy,\n",
    "        'Precision': precision,\n",
    "        'Recall': recall,\n",
    "        'F1 Score': f1\n",
    "    }\n",
    "    \n",
    "    # Append the dictionary to the results list\n",
    "    results.append(metrics)"
   ]
  },
  {
   "cell_type": "code",
   "execution_count": 18,
   "metadata": {},
   "outputs": [
    {
     "data": {
      "text/html": [
       "<div>\n",
       "<style scoped>\n",
       "    .dataframe tbody tr th:only-of-type {\n",
       "        vertical-align: middle;\n",
       "    }\n",
       "\n",
       "    .dataframe tbody tr th {\n",
       "        vertical-align: top;\n",
       "    }\n",
       "\n",
       "    .dataframe thead th {\n",
       "        text-align: right;\n",
       "    }\n",
       "</style>\n",
       "<table border=\"1\" class=\"dataframe\">\n",
       "  <thead>\n",
       "    <tr style=\"text-align: right;\">\n",
       "      <th></th>\n",
       "      <th>Confusion Matrix</th>\n",
       "      <th>Accuracy</th>\n",
       "      <th>Precision</th>\n",
       "      <th>Recall</th>\n",
       "      <th>F1 Score</th>\n",
       "    </tr>\n",
       "    <tr>\n",
       "      <th>Class</th>\n",
       "      <th></th>\n",
       "      <th></th>\n",
       "      <th></th>\n",
       "      <th></th>\n",
       "      <th></th>\n",
       "    </tr>\n",
       "  </thead>\n",
       "  <tbody>\n",
       "    <tr>\n",
       "      <th>incorrect</th>\n",
       "      <td>[[58, 15], [10, 17]]</td>\n",
       "      <td>0.75</td>\n",
       "      <td>0.531250</td>\n",
       "      <td>0.629630</td>\n",
       "      <td>0.576271</td>\n",
       "    </tr>\n",
       "    <tr>\n",
       "      <th>incomplete</th>\n",
       "      <td>[[35, 16], [23, 26]]</td>\n",
       "      <td>0.61</td>\n",
       "      <td>0.619048</td>\n",
       "      <td>0.530612</td>\n",
       "      <td>0.571429</td>\n",
       "    </tr>\n",
       "    <tr>\n",
       "      <th>inconsistent</th>\n",
       "      <td>[[83, 15], [1, 1]]</td>\n",
       "      <td>0.84</td>\n",
       "      <td>0.062500</td>\n",
       "      <td>0.500000</td>\n",
       "      <td>0.111111</td>\n",
       "    </tr>\n",
       "  </tbody>\n",
       "</table>\n",
       "</div>"
      ],
      "text/plain": [
       "                  Confusion Matrix  Accuracy  Precision    Recall  F1 Score\n",
       "Class                                                                      \n",
       "incorrect     [[58, 15], [10, 17]]      0.75   0.531250  0.629630  0.576271\n",
       "incomplete    [[35, 16], [23, 26]]      0.61   0.619048  0.530612  0.571429\n",
       "inconsistent    [[83, 15], [1, 1]]      0.84   0.062500  0.500000  0.111111"
      ]
     },
     "execution_count": 18,
     "metadata": {},
     "output_type": "execute_result"
    }
   ],
   "source": [
    "# Create a DataFrame from the list of dictionaries\n",
    "results_df = pd.DataFrame(results)\n",
    "\n",
    "# Set the column name as the index\n",
    "results_df = results_df.set_index('Class')\n",
    "\n",
    "# Display the DataFrame in Jupyter Notebook\n",
    "results_df"
   ]
  },
  {
   "cell_type": "code",
   "execution_count": 14,
   "metadata": {},
   "outputs": [
    {
     "name": "stdout",
     "output_type": "stream",
     "text": [
      "_______incorrect_______\n",
      "Precision: 0.9431818181818182\n",
      "Recall: 0.8556701030927835\n",
      "F1 score: 0.8972972972972973\n",
      "Accuracy: 0.8146341463414634\n",
      "______________________\n",
      "\n",
      "\n",
      "_______incomplete_______\n",
      "Precision: 0.8896103896103896\n",
      "Recall: 0.7569060773480663\n",
      "F1 score: 0.8179104477611939\n",
      "Accuracy: 0.7024390243902439\n",
      "______________________\n",
      "\n",
      "\n",
      "_______inconsistent_______\n",
      "Precision: 0.8461538461538461\n",
      "Recall: 0.6265822784810127\n",
      "F1 score: 0.72\n",
      "Accuracy: 0.624390243902439\n",
      "______________________\n",
      "\n",
      "\n"
     ]
    }
   ],
   "source": [
    "def calculate_metrics(confusion_matrix, cl):\n",
    "    # Calculate precision, recall, and F1 score from the confusion matrix\n",
    "    true_positive = confusion_matrix[1][1]\n",
    "    false_positive = confusion_matrix[0][1]\n",
    "    false_negative = confusion_matrix[1][0]\n",
    "    true_negative = confusion_matrix[0][0]\n",
    "\n",
    "    precision = true_positive / (true_positive + false_positive)\n",
    "    recall = true_positive / (true_positive + false_negative)\n",
    "    \n",
    "    # Calculate F1 score\n",
    "    f1_score = 2 * (precision * recall) / (precision + recall)\n",
    "    \n",
    "    # Calculate accuracy\n",
    "    accuracy = (true_positive + true_negative) / (true_positive + true_negative + false_positive + false_negative)\n",
    "    \n",
    "    print(\"_______\" + str(cl) + \"_______\")\n",
    "    print(\"Precision: \" + str(precision))\n",
    "    print(\"Recall: \" + str(recall))\n",
    "    print(\"F1 score: \" + str(f1_score))\n",
    "    print(\"Accuracy: \" + str(accuracy))\n",
    "    print(\"______________________\\n\\n\")\n",
    "    \n",
    "# =========== Times 03 - 3.0 =========== \n",
    "\n",
    "# Example confusion matrix\n",
    "c_m_icr = [[1, 10], [28, 166]]  # Format: [[true negative, false positive], [false negative, true positive]]\n",
    "c_m_icm = [[7, 17], [44, 137]]  # Format: [[true negative, false positive], [false negative, true positive]]\n",
    "c_m_ics = [[29, 18], [59, 99]]  # Format: [[true negative, false positive], [false negative, true positive]]\n",
    "\n",
    "# Calculate F1 score\n",
    "f1_score_icr = calculate_metrics(c_m_icr, \"incorrect\")\n",
    "f1_score_icm = calculate_metrics(c_m_icm, \"incomplete\")\n",
    "f1_score_ics = calculate_metrics(c_m_ics, \"inconsistent\")\n"
   ]
  },
  {
   "cell_type": "code",
   "execution_count": null,
   "metadata": {},
   "outputs": [],
   "source": []
  }
 ],
 "metadata": {
  "kernelspec": {
   "display_name": "Python 3 (ipykernel)",
   "language": "python",
   "name": "python3"
  },
  "language_info": {
   "codemirror_mode": {
    "name": "ipython",
    "version": 3
   },
   "file_extension": ".py",
   "mimetype": "text/x-python",
   "name": "python",
   "nbconvert_exporter": "python",
   "pygments_lexer": "ipython3",
   "version": "3.11.4"
  }
 },
 "nbformat": 4,
 "nbformat_minor": 2
}
